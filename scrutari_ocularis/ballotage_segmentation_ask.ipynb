{
 "cells": [
  {
   "cell_type": "code",
   "execution_count": 8,
   "metadata": {},
   "outputs": [
    {
     "name": "stdout",
     "output_type": "stream",
     "text": [
      "Requirement already satisfied: opencv-python-headless in c:\\users\\nicoc\\appdata\\local\\packages\\pythonsoftwarefoundation.python.3.11_qbz5n2kfra8p0\\localcache\\local-packages\\python311\\site-packages (4.8.1.78)"
     ]
    },
    {
     "name": "stderr",
     "output_type": "stream",
     "text": [
      "\n",
      "[notice] A new release of pip is available: 23.2.1 -> 23.3.1\n",
      "[notice] To update, run: C:\\Users\\nicoc\\AppData\\Local\\Microsoft\\WindowsApps\\PythonSoftwareFoundation.Python.3.11_qbz5n2kfra8p0\\python.exe -m pip install --upgrade pip\n"
     ]
    },
    {
     "name": "stdout",
     "output_type": "stream",
     "text": [
      "\n",
      "Requirement already satisfied: numpy>=1.21.2 in c:\\users\\nicoc\\appdata\\local\\packages\\pythonsoftwarefoundation.python.3.11_qbz5n2kfra8p0\\localcache\\local-packages\\python311\\site-packages (from opencv-python-headless) (1.23.5)\n",
      "Requirement already satisfied: Pillow in c:\\users\\nicoc\\appdata\\local\\packages\\pythonsoftwarefoundation.python.3.11_qbz5n2kfra8p0\\localcache\\local-packages\\python311\\site-packages (10.0.0)\n"
     ]
    },
    {
     "name": "stderr",
     "output_type": "stream",
     "text": [
      "\n",
      "[notice] A new release of pip is available: 23.2.1 -> 23.3.1\n",
      "[notice] To update, run: C:\\Users\\nicoc\\AppData\\Local\\Microsoft\\WindowsApps\\PythonSoftwareFoundation.Python.3.11_qbz5n2kfra8p0\\python.exe -m pip install --upgrade pip\n"
     ]
    }
   ],
   "source": [
    "#cv2\n",
    "!pip install opencv-python-headless \n",
    "!pip install Pillow\n"
   ]
  },
  {
   "cell_type": "code",
   "execution_count": 2,
   "metadata": {},
   "outputs": [],
   "source": [
    "%load_ext autoreload\n",
    "%autoreload 2\n",
    "\n",
    "import sys\n",
    "sys.path.append('./src/segmentation/')\n",
    "sys.path.append('./src/data_management/')\n",
    "sys.path.append('./src/validation_modules/')\n",
    "\n",
    "import image_processor  # Importa tu módulo\n",
    "import telegrama_ballotage  # Importa tu módulo\n",
    "import template_ballotage  # Importa tu módulo\n",
    "\n",
    "import numpy as np\n",
    "import cv2\n",
    "from image_processor import ImageProcessor\n",
    "from PIL import Image\n",
    "import matplotlib.pyplot as plt\n"
   ]
  },
  {
   "cell_type": "code",
   "execution_count": 5,
   "metadata": {},
   "outputs": [
    {
     "name": "stdout",
     "output_type": "stream",
     "text": [
      "Advertencia: se detectaron 14 filas, pero se esperaban 17.\n",
      "Advertencia: se detectaron 14 filas, pero se esperaban 17.\n",
      "Advertencia: se detectaron 14 filas, pero se esperaban 17.\n",
      "Advertencia: se detectaron 14 filas, pero se esperaban 17.\n",
      "Advertencia: se detectaron 14 filas, pero se esperaban 17.\n",
      "Advertencia: se detectaron 14 filas, pero se esperaban 17.\n",
      "Advertencia: se detectaron 14 filas, pero se esperaban 17.\n",
      "Advertencia: se detectaron 14 filas, pero se esperaban 17.\n",
      "Advertencia: se detectaron 14 filas, pero se esperaban 17.\n",
      "Advertencia: se detectaron 14 filas, pero se esperaban 17.\n",
      "Advertencia: se detectaron 14 filas, pero se esperaban 17.\n",
      "Advertencia: se detectaron 14 filas, pero se esperaban 17.\n",
      "Advertencia: se detectaron 14 filas, pero se esperaban 17.\n",
      "Advertencia: se detectaron 14 filas, pero se esperaban 17.\n",
      "Advertencia: se detectaron 14 filas, pero se esperaban 17.\n",
      "Advertencia: se detectaron 14 filas, pero se esperaban 17.\n",
      "Advertencia: se detectaron 14 filas, pero se esperaban 17.\n",
      "Advertencia: se detectaron 14 filas, pero se esperaban 17.\n",
      "Advertencia: se detectaron 14 filas, pero se esperaban 17.\n",
      "Advertencia: se detectaron 14 filas, pero se esperaban 17.\n"
     ]
    }
   ],
   "source": [
    "\n",
    "FOLDER = \"./files-examples/\"\n",
    "FOLDER_TEMPLATE = \"./files-templates/\"\n",
    "FILE_TELEGRAM_TEMPLATE = \"AE-150-23-telegrama\"\n",
    "\n",
    "for numero in range(1, 21):  # Esto itera de 1 a 20\n",
    "    FILE_TELEGRAM = f\"mock_telegrama_{numero}\"\n",
    "            \n",
    "    # Uso de la clase\n",
    "    processor = ImageProcessor(f\"{FOLDER_TEMPLATE}{FILE_TELEGRAM_TEMPLATE}.tiff\", f\"{FOLDER}{FILE_TELEGRAM}.jpg\")\n",
    "\n",
    "    is_align = processor.read_and_align_images()\n",
    "\n",
    "    from telegrama_ballotage import TelegramaBallotage\n",
    "    from template_ballotage import TemplateBallotage\n",
    "\n",
    "    aligned_binarizada = processor.binarize_aligned_image()\n",
    "    template_binarizada = processor.binarize_template_image()\n",
    "\n",
    "    # Crear instancias de Telegrama o Template con la imagen binarizada\n",
    "    telegrama = TelegramaBallotage(processor.aligned_image, aligned_binarizada)\n",
    "    template = TemplateBallotage(processor.img_template, template_binarizada)\n",
    "\n",
    "    # Dibujar las celdas detectadas en 'tabla' y numerarlas después de ordenarlas\n",
    "    tabla_numerada = cv2.cvtColor(telegrama.tabla_grande.recorte, cv2.COLOR_GRAY2BGR) \n",
    "\n",
    "    # Procesa la tabla y recibe una lista de objetos Celda\n",
    "    celdas_procesadas = processor.process_table(template.tabla_grande.recorte)\n",
    "\n",
    "    # Lista de índices de las celdas que quieres extraer\n",
    "    indices_celdas_a_extraer = [30, 34, 36, 38, 40, 42, 44]\n",
    "\n",
    "    imagenes_celdas_extraidas = processor.combine_cells_by_id(celdas_procesadas, indices_celdas_a_extraer, telegrama.tabla_grande.recorte)\n",
    "\n",
    "    # Guardar la imagen en el formato deseado\n",
    "    cv2.imwrite(f\"{FOLDER}/save/{FILE_TELEGRAM}_cut.jpg\", imagenes_celdas_extraidas)\n"
   ]
  }
 ],
 "metadata": {
  "kernelspec": {
   "display_name": "Python 3",
   "language": "python",
   "name": "python3"
  },
  "language_info": {
   "codemirror_mode": {
    "name": "ipython",
    "version": 3
   },
   "file_extension": ".py",
   "mimetype": "text/x-python",
   "name": "python",
   "nbconvert_exporter": "python",
   "pygments_lexer": "ipython3",
   "version": "3.11.6"
  }
 },
 "nbformat": 4,
 "nbformat_minor": 2
}
