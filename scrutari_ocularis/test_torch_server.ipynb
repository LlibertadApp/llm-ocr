{
 "cells": [
  {
   "cell_type": "code",
   "execution_count": 3,
   "metadata": {},
   "outputs": [
    {
     "name": "stdout",
     "output_type": "stream",
     "text": [
      "The autoreload extension is already loaded. To reload it, use:\n",
      "  %reload_ext autoreload\n"
     ]
    }
   ],
   "source": [
    "%load_ext autoreload\n",
    "%autoreload 2\n",
    "\n",
    "import h5py\n",
    "import numpy as np\n",
    "import random\n",
    "import requests\n",
    "import tempfile\n",
    "from PIL import Image\n",
    "\n",
    "from src.data_management.election_image_storage import ElectionImageStorage\n",
    "\n",
    "import sys\n",
    "sys.path.append('./src/llm_model/')\n",
    "\n",
    "# Importa tu handler personalizado aquí\n",
    "from src.llm_model.scrutari_ocularis_model import ScrutariOcularisModel\n",
    "\n",
    "from PIL import Image\n",
    "import io\n",
    "import torch\n",
    "import os\n",
    "import logging"
   ]
  },
  {
   "cell_type": "code",
   "execution_count": 2,
   "metadata": {},
   "outputs": [
    {
     "name": "stdout",
     "output_type": "stream",
     "text": [
      "hdf5_path requests: processed_images.hdf5\n",
      "Imagen requests: C:\\Users\\nicoc\\AppData\\Local\\Temp\\tmppx6ocw50.png\n"
     ]
    }
   ],
   "source": [
    "\n",
    "\n",
    "\n",
    "# Ruta al archivo HDF5 con las imágenes y votos\n",
    "hdf5_path = 'processed_images.hdf5'\n",
    "\n",
    "# Abrir el archivo HDF5 para lectura\n",
    "with h5py.File(hdf5_path, 'r') as hdf5_file:\n",
    "    # Listar todos los grupos (nombres de archivo) del archivo HDF5\n",
    "    keys = list(hdf5_file.keys())\n",
    "    # Seleccionar una clave al azar para un grupo\n",
    "    random_key = random.choice(keys)\n",
    "    # Acceder al grupo seleccionado\n",
    "    group = hdf5_file[random_key]\n",
    "    # Buscar dentro del grupo un dataset que termine en '_image'\n",
    "    for item in group.keys():\n",
    "        if item.endswith('_image'):\n",
    "            image_data = group[item][()]\n",
    "            # El valor votado está almacenado como un atributo que comparte el prefijo con la imagen\n",
    "            voted_value = group.attrs[item.replace('_image', '_votos')]\n",
    "            break\n",
    "\n",
    "print(f\"hdf5_path requests: {hdf5_path}\")\n",
    "\n",
    "# Guardar la imagen en un archivo temporal\n",
    "with tempfile.NamedTemporaryFile(suffix='.png', delete=False) as temp_image_file:\n",
    "    image = Image.fromarray(image_data)\n",
    "    image.save(temp_image_file)\n",
    "    temp_image_file_path = temp_image_file.name\n",
    "\n",
    "\n",
    "print(f\"Imagen requests: {temp_image_file_path}\")\n"
   ]
  },
  {
   "cell_type": "code",
   "execution_count": 2,
   "metadata": {},
   "outputs": [],
   "source": [
    "\n"
   ]
  },
  {
   "cell_type": "code",
   "execution_count": 21,
   "metadata": {},
   "outputs": [
    {
     "name": "stdout",
     "output_type": "stream",
     "text": [
      "use_cuda model False\n",
      "use_mps model False\n",
      "USING CPU\n",
      "Save model\n",
      "Imagen seleccionada: 0100301168X\n",
      "Valor votado: 70.0\n",
      "Valor predicho: [108]\n"
     ]
    }
   ],
   "source": [
    "\n",
    "from scrutari_ocularis__model_utils import ScrutariOcularisModelUtils\n",
    "\n",
    "os.environ['CUDA_LAUNCH_BLOCKING'] = \"1\"\n",
    "\n",
    "# Ruta al archivo HDF5 con las imágenes y votos\n",
    "hdf5_path = 'processed_images.hdf5'\n",
    "\n",
    "use_cuda = torch.cuda.is_available()\n",
    "use_mps = torch.backends.mps.is_available()\n",
    "print(f\"use_cuda model {use_cuda}\")\n",
    "print(f\"use_mps model {use_mps}\")\n",
    "\n",
    "logger = logging.getLogger(__name__)\n",
    "\n",
    "device = None\n",
    "\n",
    "if use_cuda:\n",
    "    device = torch.device(\"cuda\")\n",
    "else:\n",
    "    device = torch.device(\"cpu\")\n",
    "    print(\"USING CPU\")\n",
    "\n",
    "model = ScrutariOcularisModel().to(device) \n",
    "\n",
    "name_file_model = \"./models/scrutari_ocularis_model_v_1.pt\"\n",
    "\n",
    "if os.path.exists(name_file_model):\n",
    "    if use_cuda:\n",
    "        model.load_state_dict(torch.load(name_file_model))\n",
    "    else:\n",
    "        model.load_state_dict(torch.load(name_file_model, map_location=device))\n",
    "    print(\"Save model\")\n",
    "else:\n",
    "    print(\"No se encontró un modelo previo.\")\n",
    "\n",
    "model.eval()\n",
    "\n",
    "# Convertir la imagen en un objeto de imagen PIL\n",
    "image = Image.fromarray(image_data)\n",
    "\n",
    "# Simular una solicitud HTTP convirtiendo la imagen PIL a bytes y luego a un objeto bytearray\n",
    "buffered = io.BytesIO()\n",
    "image.save(buffered, format=\"PNG\")\n",
    "image_bytes = bytearray(buffered.getvalue())\n",
    "\n",
    "# Llamar al método preprocess del handler con los datos de la imagen\n",
    "# En este caso, simulamos una lista de diccionarios con claves 'body' que TorchServe pasaría\n",
    "preprocessed_data = ScrutariOcularisModelUtils.preprocess(logger, [{'body': image_bytes}])\n",
    "\n",
    "# Simular una inferencia llamando al método inference del handler\n",
    "# Necesitarías asegurarte de que tu modelo está cargado correctamente para esto\n",
    "inference_result = ScrutariOcularisModelUtils.inference(model, preprocessed_data)\n",
    "\n",
    "# Llamar al método postprocess para obtener la respuesta final\n",
    "postprocessed_result = ScrutariOcularisModelUtils.postprocess(inference_result)\n",
    "\n",
    "print(f\"Imagen seleccionada: {random_key}\")\n",
    "print(f\"Valor votado: {voted_value}\")\n",
    "print(f\"Valor predicho: {postprocessed_result}\")"
   ]
  },
  {
   "cell_type": "code",
   "execution_count": 27,
   "metadata": {},
   "outputs": [
    {
     "name": "stdout",
     "output_type": "stream",
     "text": [
      "Imagen seleccionada: 0100301168X\n",
      "Valor votado: 70.0\n",
      "Valor predicho: {\"message\":[108]}\n"
     ]
    }
   ],
   "source": [
    "import base64\n",
    "\n",
    "# Configura la URL del servidor de PyTorch Serve\n",
    "serve_url = \"http://localhost:8000/process-image\"\n",
    "\n",
    "# Convertir la imagen en un objeto de imagen PIL\n",
    "image = Image.fromarray(image_data)\n",
    "\n",
    "# Simular una solicitud HTTP convirtiendo la imagen PIL a bytes y luego a un objeto bytearray\n",
    "buffered = io.BytesIO()\n",
    "image.save(buffered, format=\"PNG\")\n",
    "image_base64 = base64.b64encode(buffered.getvalue()).decode('utf-8')\n",
    "\n",
    "# Enviar la imagen al servidor de PyTorch Serve y recibir la predicción\n",
    "serve_url = \"http://localhost:8000/process-image\"\n",
    "response = requests.post(serve_url, json={\"data\": image_base64})\n",
    "    \n",
    "# Comparar la predicción con el valor votado\n",
    "predicted_value = response.text\n",
    "print(f\"Imagen seleccionada: {random_key}\")\n",
    "print(f\"Valor votado: {voted_value}\")\n",
    "print(f\"Valor predicho: {predicted_value}\")\n"
   ]
  },
  {
   "cell_type": "code",
   "execution_count": 28,
   "metadata": {},
   "outputs": [
    {
     "name": "stdout",
     "output_type": "stream",
     "text": [
      "Requirement already satisfied: boto3 in c:\\users\\nicoc\\appdata\\local\\packages\\pythonsoftwarefoundation.python.3.11_qbz5n2kfra8p0\\localcache\\local-packages\\python311\\site-packages (1.28.35)\n",
      "Requirement already satisfied: botocore<1.32.0,>=1.31.35 in c:\\users\\nicoc\\appdata\\local\\packages\\pythonsoftwarefoundation.python.3.11_qbz5n2kfra8p0\\localcache\\local-packages\\python311\\site-packages (from boto3) (1.31.35)\n",
      "Requirement already satisfied: jmespath<2.0.0,>=0.7.1 in c:\\users\\nicoc\\appdata\\local\\packages\\pythonsoftwarefoundation.python.3.11_qbz5n2kfra8p0\\localcache\\local-packages\\python311\\site-packages (from boto3) (1.0.1)\n",
      "Requirement already satisfied: s3transfer<0.7.0,>=0.6.0 in c:\\users\\nicoc\\appdata\\local\\packages\\pythonsoftwarefoundation.python.3.11_qbz5n2kfra8p0\\localcache\\local-packages\\python311\\site-packages (from boto3) (0.6.2)\n",
      "Requirement already satisfied: python-dateutil<3.0.0,>=2.1 in c:\\users\\nicoc\\appdata\\local\\packages\\pythonsoftwarefoundation.python.3.11_qbz5n2kfra8p0\\localcache\\local-packages\\python311\\site-packages (from botocore<1.32.0,>=1.31.35->boto3) (2.8.2)\n",
      "Requirement already satisfied: urllib3<1.27,>=1.25.4 in c:\\users\\nicoc\\appdata\\local\\packages\\pythonsoftwarefoundation.python.3.11_qbz5n2kfra8p0\\localcache\\local-packages\\python311\\site-packages (from botocore<1.32.0,>=1.31.35->boto3) (1.26.16)\n",
      "Requirement already satisfied: six>=1.5 in c:\\users\\nicoc\\appdata\\local\\packages\\pythonsoftwarefoundation.python.3.11_qbz5n2kfra8p0\\localcache\\local-packages\\python311\\site-packages (from python-dateutil<3.0.0,>=2.1->botocore<1.32.0,>=1.31.35->boto3) (1.16.0)\n"
     ]
    },
    {
     "name": "stderr",
     "output_type": "stream",
     "text": [
      "\n",
      "[notice] A new release of pip is available: 23.2.1 -> 23.3.1\n",
      "[notice] To update, run: C:\\Users\\nicoc\\AppData\\Local\\Microsoft\\WindowsApps\\PythonSoftwareFoundation.Python.3.11_qbz5n2kfra8p0\\python.exe -m pip install --upgrade pip\n"
     ]
    }
   ],
   "source": [
    "!pip install boto3"
   ]
  },
  {
   "cell_type": "code",
   "execution_count": 12,
   "metadata": {},
   "outputs": [],
   "source": [
    "import boto3\n",
    "import os\n",
    "import random\n",
    "import matplotlib.pyplot as plt\n",
    "from botocore.exceptions import ClientError\n"
   ]
  },
  {
   "cell_type": "code",
   "execution_count": 11,
   "metadata": {},
   "outputs": [],
   "source": [
    "\n",
    "# Configura tus credenciales y endpoint de MinIO aquí\n",
    "ACCESS_KEY = 'ilF2NsVI6vwbYc052vbG'\n",
    "SECRET_KEY = 'wRZY91TKq3Mr7I0YKPyRAQODR05fJgkwHTiUE4bX'\n",
    "ENDPOINT_URL = 'http://localhost:9000'\n",
    "BUCKET_NAME = 'ballotage'\n",
    "\n",
    "# Configura la carpeta local de donde se cargarán las imágenes\n",
    "FOLDER = \"./files-examples/ballotage/\""
   ]
  },
  {
   "cell_type": "code",
   "execution_count": 14,
   "metadata": {},
   "outputs": [],
   "source": [
    "import boto3\n",
    "\n",
    "# Configuración del cliente de S3\n",
    "s3_client = boto3.client('s3',\n",
    "                         endpoint_url=ENDPOINT_URL,\n",
    "                         aws_access_key_id=ACCESS_KEY,\n",
    "                         aws_secret_access_key=SECRET_KEY)\n",
    "\n",
    "# Método para descargar archivos de S3 a memoria\n",
    "def download_file_to_memory(bucket_name, key):\n",
    "    try:\n",
    "        response = s3_client.get_object(Bucket=bucket_name, Key=key)\n",
    "        return response['Body'].read()\n",
    "    except ClientError as e:\n",
    "        print(f\"No se pudo descargar el archivo: {e}\")\n",
    "        return None"
   ]
  },
  {
   "cell_type": "code",
   "execution_count": 19,
   "metadata": {},
   "outputs": [
    {
     "name": "stdout",
     "output_type": "stream",
     "text": [
      "response: [{\"path\":\"telegramas/celdas/mock_telegrama_0_celda_0.png\",\"predicted\":[180]}]\n"
     ]
    },
    {
     "data": {
      "image/png": "[encoded data removed]",
      "text/plain": [
       "<Figure size 640x480 with 1 Axes>"
      ]
     },
     "metadata": {},
     "output_type": "display_data"
    }
   ],
   "source": [
    "\n",
    "# Configura la URL del servidor de PyTorch Serve\n",
    "serve_url = \"http://localhost:8000/process-image-s3\"\n",
    "\n",
    "path = \"telegramas/celdas/mock_telegrama_0_celda_0.png\"\n",
    "\n",
    "# Enviar la imagen al servidor de PyTorch Serve y recibir la predicción\n",
    "response = requests.post(serve_url, json={\"paths\": [path]})\n",
    "\n",
    "# Comparar la predicción con el valor votado\n",
    "predicted_value = response.text\n",
    "print(f\"response: {response.text}\")\n",
    "\n",
    "celdas_test = download_file_to_memory(BUCKET_NAME, path)\n",
    "\n",
    "# Convertir los bytes a un objeto Image\n",
    "image = Image.open(io.BytesIO(celdas_test))\n",
    "\n",
    "# Mostrar la imagen con Matplotlib\n",
    "plt.imshow(image)\n",
    "plt.title(f\"Predicted value: {predicted_value}\")\n",
    "plt.axis('off')  # No mostrar los ejes\n",
    "plt.show()"
   ]
  },
  {
   "cell_type": "code",
   "execution_count": null,
   "metadata": {},
   "outputs": [],
   "source": []
  }
 ],
 "metadata": {
  "kernelspec": {
   "display_name": "Python 3",
   "language": "python",
   "name": "python3"
  },
  "language_info": {
   "codemirror_mode": {
    "name": "ipython",
    "version": 3
   },
   "file_extension": ".py",
   "mimetype": "text/x-python",
   "name": "python",
   "nbconvert_exporter": "python",
   "pygments_lexer": "ipython3",
   "version": "3.11.6"
  }
 },
 "nbformat": 4,
 "nbformat_minor": 2
}
